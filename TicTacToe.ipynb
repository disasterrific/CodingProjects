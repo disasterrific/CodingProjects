{
 "cells": [
  {
   "cell_type": "code",
   "execution_count": 3,
   "metadata": {},
   "outputs": [],
   "source": [
    "#Step 1: Function to display the board\n",
    "\n",
    "from IPython.display import clear_output\n",
    "#clear_board = '\\n'*100\n",
    "#clear_board\n",
    "    \n",
    "    # '\\n'*100 scrolls previous board up out of view; in jupyter notebook,\n",
    "    #the method clear_output() has the same effect\n",
    "\n",
    "def display_board(board):\n",
    "    \n",
    "    clear_output()\n",
    "    \n",
    "    print(' '+board[7]+' | '+board[8]+' | '+board[9])\n",
    "    print('-----------')\n",
    "    print(' '+board[4]+' | '+board[5]+' | '+board[6])\n",
    "    print('-----------')\n",
    "    print(' '+board[1]+' | '+board[2]+' | '+board[3])"
   ]
  },
  {
   "cell_type": "code",
   "execution_count": 4,
   "metadata": {},
   "outputs": [],
   "source": [
    "#%%\n",
    "# Step 2: Function to ask players for marker (X or O)\n",
    "\n",
    "def marker_choice():\n",
    "    '''\n",
    "    OUTPUT = (player1_marker, player2_marker)\n",
    "    '''\n",
    "    \n",
    "    marker = ''\n",
    "    \n",
    "    while not (marker == 'X' or marker == 'O'):\n",
    "        marker = input('Player 1, choose X or O: ').upper()\n",
    "     \n",
    "    if marker == 'X':\n",
    "        return ('X','O')\n",
    "    \n",
    "    else:\n",
    "        return ('O','X')"
   ]
  },
  {
   "cell_type": "code",
   "execution_count": 5,
   "metadata": {},
   "outputs": [],
   "source": [
    "#%%\n",
    "# Step 3: Function to position marker on board\n",
    "\n",
    "def place_marker(board, marker, position):\n",
    "    board[position] = marker"
   ]
  },
  {
   "cell_type": "code",
   "execution_count": 6,
   "metadata": {},
   "outputs": [],
   "source": [
    "#%%\n",
    "# Step 4: Function to take in marker input and test if a player has won\n",
    "def win_check(board,marker):\n",
    "    \n",
    "    return ((board[1] == marker and board[2] == marker and board[3] == marker) or \n",
    "    (board[4] == marker and board[5] == marker and board[6] == marker) or\n",
    "    (board[7] == marker and board[8] == marker and board[9] == marker) or\n",
    "    (board[1] == marker and board[4] == marker and board[7] == marker) or\n",
    "    (board[2] == marker and board[5] == marker and board[8] == marker) or\n",
    "    (board[3] == marker and board[6] == marker and board[9] == marker) or\n",
    "    (board[1] == marker and board[5] == marker and board[9] == marker) or\n",
    "    (board[7] == marker and board[5] == marker and board[3] == marker))\n",
    "        \n",
    "        #alternative:\n",
    "        #str = ''\n",
    "        #str.join(board[1,2,3]) == marker*3"
   ]
  },
  {
   "cell_type": "code",
   "execution_count": 7,
   "metadata": {},
   "outputs": [],
   "source": [
    "#%%\n",
    "# Step 5: Function to pick player that starts\n",
    "\n",
    "import random\n",
    "\n",
    "def choose_first():\n",
    "    if random.randint(0,1) == 0:\n",
    "        return 'Player 1'\n",
    "    else:\n",
    "        return 'Player 2'"
   ]
  },
  {
   "cell_type": "code",
   "execution_count": 8,
   "metadata": {},
   "outputs": [],
   "source": [
    "#%%\n",
    "# Step 6: Check if there is an open space on the board\n",
    "\n",
    "def space_check(board, position):\n",
    "    \n",
    "    return board[position] == ' '"
   ]
  },
  {
   "cell_type": "code",
   "execution_count": 9,
   "metadata": {},
   "outputs": [],
   "source": [
    "#%%\n",
    "# Step 7: Check if board is full\n",
    "\n",
    "def full_board_check(board):\n",
    "    \n",
    "    for i in range(1,10):\n",
    "        if space_check(board,i):\n",
    "            return False\n",
    "    return True"
   ]
  },
  {
   "cell_type": "code",
   "execution_count": 10,
   "metadata": {},
   "outputs": [],
   "source": [
    "#%%\n",
    "# Step 8: Ask for position input and check if position is free\n",
    "\n",
    "def position_choice(board):\n",
    "    \n",
    "    position = 0\n",
    "    \n",
    "    while position not in list(range(1,10)) or not space_check(board, position):\n",
    "        try:\n",
    "            position = int(input('Choose your next position (1-9): ')) \n",
    "        #By converting str input into int, letter input will throw error, therefore exception necessary\n",
    "        except:\n",
    "            continue\n",
    "        finally: \n",
    "            if full_board_check(board):\n",
    "                break\n",
    "        \n",
    "    return position"
   ]
  },
  {
   "cell_type": "code",
   "execution_count": 11,
   "metadata": {},
   "outputs": [],
   "source": [
    "#%%\n",
    "# Step 9: Ask for replay\n",
    "\n",
    "def replay():\n",
    "    \n",
    "    replay_choice = input('Do you want to play again? [yes/no] ').lower()[0]\n",
    "\n",
    "    return replay_choice == 'y'"
   ]
  },
  {
   "cell_type": "code",
   "execution_count": 12,
   "metadata": {},
   "outputs": [],
   "source": [
    "#%%\n",
    "# Step 10: Put functions together to run the game \n",
    "\n",
    "def play_TicTacToe():\n",
    "    \n",
    "    print('Hello, this is Tic Tac Toe.')\n",
    "    \n",
    "    while True:\n",
    "\n",
    "        # SET UP GAME\n",
    "        empty_board = [' ']*10\n",
    "        \n",
    "        (player1_marker, player2_marker) = marker_choice()\n",
    "\n",
    "        turn = choose_first()\n",
    "        print(f'{turn} begins! ')\n",
    "\n",
    "        play_game = input('Ready to play? [yes/no] ').lower()[0]\n",
    "\n",
    "        if play_game == 'y':\n",
    "            game_on = True\n",
    "        else:\n",
    "            game_on = False\n",
    "            break\n",
    "         \n",
    "         ## GAME PLAY\n",
    "        while game_on == True:\n",
    "            ### PLAYER 1 TURN\n",
    "            if turn == 'Player 1':\n",
    "                display_board(empty_board)\n",
    "                \n",
    "                print(f'\\nPlayer 1 ({player1_marker})')\n",
    "                \n",
    "                position = position_choice(empty_board)\n",
    "\n",
    "                place_marker(empty_board, player1_marker, position)\n",
    "\n",
    "                if win_check(empty_board,player1_marker):\n",
    "                    display_board(empty_board)\n",
    "                    print(f'Congratulations! Player 1 wins!')\n",
    "                    game_on == False #same as break\n",
    "\n",
    "                else:\n",
    "                    if full_board_check(empty_board):\n",
    "                        display_board(empty_board)\n",
    "                        print(\"It's a tie!\") \n",
    "                        game_on == False #same as break\n",
    "\n",
    "                    else:\n",
    "                        turn = 'Player 2'\n",
    "\n",
    "            ### PLAYER 2 TURN\n",
    "            else:\n",
    "                display_board(empty_board)\n",
    "                \n",
    "                print(f'\\nPlayer 2 ({player2_marker})')\n",
    "                \n",
    "                position = position_choice(empty_board)\n",
    "\n",
    "                place_marker(empty_board, player2_marker, position)\n",
    "\n",
    "                if win_check(empty_board,player2_marker):\n",
    "                    display_board(empty_board)\n",
    "                    print(f'Congratulations! Player 2 wins!')\n",
    "                    game_on == False #same as break\n",
    "\n",
    "                else:\n",
    "                    if full_board_check(empty_board):\n",
    "                        display_board(empty_board)\n",
    "                        print(\"It's a tie!\") \n",
    "                        game_on == False #same as break\n",
    "\n",
    "                    else:\n",
    "                        turn = 'Player 1'\n",
    "\n",
    "        if replay():\n",
    "            game_on = True\n",
    "        else:            \n",
    "            break"
   ]
  },
  {
   "cell_type": "code",
   "execution_count": null,
   "metadata": {},
   "outputs": [
    {
     "name": "stdout",
     "output_type": "stream",
     "text": [
      " X | X | O\n",
      "-----------\n",
      " X | O | X\n",
      "-----------\n",
      " X | X | X\n",
      "\n",
      "Player 1 (X)\n"
     ]
    }
   ],
   "source": [
    "#%%\n",
    "play_TicTacToe()"
   ]
  },
  {
   "cell_type": "code",
   "execution_count": null,
   "metadata": {},
   "outputs": [],
   "source": []
  }
 ],
 "metadata": {
  "kernelspec": {
   "display_name": "Python 3",
   "language": "python",
   "name": "python3"
  },
  "language_info": {
   "codemirror_mode": {
    "name": "ipython",
    "version": 3
   },
   "file_extension": ".py",
   "mimetype": "text/x-python",
   "name": "python",
   "nbconvert_exporter": "python",
   "pygments_lexer": "ipython3",
   "version": "3.7.1"
  }
 },
 "nbformat": 4,
 "nbformat_minor": 2
}
